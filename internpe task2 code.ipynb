{
 "cells": [
  {
   "cell_type": "code",
   "execution_count": 6,
   "id": "fee00266-b1a0-4bc0-a718-4624f4991390",
   "metadata": {},
   "outputs": [
    {
     "name": "stdout",
     "output_type": "stream",
     "text": [
      "-------------\n",
      "|   |   |   |\n",
      "-------------\n",
      "|   |   |   |\n",
      "-------------\n",
      "|   |   |   |\n",
      "-------------\n"
     ]
    },
    {
     "name": "stdin",
     "output_type": "stream",
     "text": [
      "Player X, enter the row (0, 1, 2):  0\n",
      "Player X, enter the column (0, 1, 2):  0\n"
     ]
    },
    {
     "name": "stdout",
     "output_type": "stream",
     "text": [
      "-------------\n",
      "| X |   |   |\n",
      "-------------\n",
      "|   |   |   |\n",
      "-------------\n",
      "|   |   |   |\n",
      "-------------\n"
     ]
    },
    {
     "name": "stdin",
     "output_type": "stream",
     "text": [
      "Player O, enter the row (0, 1, 2):  1\n",
      "Player O, enter the column (0, 1, 2):  2\n"
     ]
    },
    {
     "name": "stdout",
     "output_type": "stream",
     "text": [
      "-------------\n",
      "| X |   |   |\n",
      "-------------\n",
      "|   |   | O |\n",
      "-------------\n",
      "|   |   |   |\n",
      "-------------\n"
     ]
    },
    {
     "name": "stdin",
     "output_type": "stream",
     "text": [
      "Player X, enter the row (0, 1, 2):  1\n",
      "Player X, enter the column (0, 1, 2):  1\n"
     ]
    },
    {
     "name": "stdout",
     "output_type": "stream",
     "text": [
      "-------------\n",
      "| X |   |   |\n",
      "-------------\n",
      "|   | X | O |\n",
      "-------------\n",
      "|   |   |   |\n",
      "-------------\n"
     ]
    },
    {
     "name": "stdin",
     "output_type": "stream",
     "text": [
      "Player O, enter the row (0, 1, 2):  2\n",
      "Player O, enter the column (0, 1, 2):  1\n"
     ]
    },
    {
     "name": "stdout",
     "output_type": "stream",
     "text": [
      "-------------\n",
      "| X |   |   |\n",
      "-------------\n",
      "|   | X | O |\n",
      "-------------\n",
      "|   | O |   |\n",
      "-------------\n"
     ]
    },
    {
     "name": "stdin",
     "output_type": "stream",
     "text": [
      "Player X, enter the row (0, 1, 2):  2\n",
      "Player X, enter the column (0, 1, 2):  2\n"
     ]
    },
    {
     "name": "stdout",
     "output_type": "stream",
     "text": [
      "-------------\n",
      "| X |   |   |\n",
      "-------------\n",
      "|   | X | O |\n",
      "-------------\n",
      "|   | O | X |\n",
      "-------------\n",
      "Player X wins!\n"
     ]
    }
   ],
   "source": [
    "def initialize_board():\n",
    "    return [[\" \" for _ in range(3)] for _ in range(3)]\n",
    "\n",
    "\n",
    "def print_board(board):\n",
    "    print(\"-------------\")\n",
    "    for row in board:\n",
    "        print(\"|\", \" | \".join(row), \"|\")\n",
    "        print(\"-------------\")\n",
    "\n",
    "def check_win(board, player):\n",
    " \n",
    "    for i in range(3):\n",
    "        if all([cell == player for cell in board[i]]) or \\\n",
    "           all([board[j][i] == player for j in range(3)]):\n",
    "            return True\n",
    "\n",
    " \n",
    "    if board[0][0] == player and board[1][1] == player and board[2][2] == player:\n",
    "        return True\n",
    "    if board[0][2] == player and board[1][1] == player and board[2][0] == player:\n",
    "        return True\n",
    "\n",
    "    return False\n",
    "\n",
    "\n",
    "def is_board_full(board):\n",
    "    return all(cell != \" \" for row in board for cell in row)\n",
    "\n",
    "def play_game():\n",
    "    board = initialize_board()\n",
    "    current_player = \"X\"\n",
    "\n",
    "    while True:\n",
    "        print_board(board)\n",
    "        \n",
    "        row = int(input(f\"Player {current_player}, enter the row (0, 1, 2): \"))\n",
    "        col = int(input(f\"Player {current_player}, enter the column (0, 1, 2): \"))\n",
    "\n",
    "        # Validate move\n",
    "        if board[row][col] != \" \":\n",
    "            print(\"This position is already taken. Try again.\")\n",
    "            continue\n",
    "\n",
    "        # Make the move\n",
    "        board[row][col] = current_player\n",
    "\n",
    "        # Check if the current player wins\n",
    "        if check_win(board, current_player):\n",
    "            print_board(board)\n",
    "            print(f\"Player {current_player} wins!\")\n",
    "            break\n",
    "\n",
    "        # Check if the board is full (draw)\n",
    "        if is_board_full(board):\n",
    "            print_board(board)\n",
    "            print(\"It's a draw!\")\n",
    "            break\n",
    "\n",
    "        # Switch player\n",
    "        current_player = \"O\" if current_player == \"X\" else \"X\"\n",
    "\n",
    "\n",
    "if __name__ == \"__main__\":\n",
    "    play_game()\n"
   ]
  },
  {
   "cell_type": "code",
   "execution_count": null,
   "id": "dc4be058-40ce-4b8d-8015-7275db2ae451",
   "metadata": {},
   "outputs": [],
   "source": []
  }
 ],
 "metadata": {
  "kernelspec": {
   "display_name": "Python 3 (ipykernel)",
   "language": "python",
   "name": "python3"
  },
  "language_info": {
   "codemirror_mode": {
    "name": "ipython",
    "version": 3
   },
   "file_extension": ".py",
   "mimetype": "text/x-python",
   "name": "python",
   "nbconvert_exporter": "python",
   "pygments_lexer": "ipython3",
   "version": "3.12.3"
  }
 },
 "nbformat": 4,
 "nbformat_minor": 5
}
