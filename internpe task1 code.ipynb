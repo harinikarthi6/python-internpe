{
 "cells": [
  {
   "cell_type": "code",
   "execution_count": 1,
   "id": "648aea7a-9e1b-442a-9fb8-1fbb733e69d5",
   "metadata": {},
   "outputs": [],
   "source": [
    "import tkinter as tk\n",
    "import time\n",
    "\n",
    "\n",
    "def update_time():\n",
    "    current_time = time.strftime(\"%H:%M:%S\") \n",
    "    current_date = time.strftime(\"%A, %B %d, %Y\") \n",
    "\n",
    "    time_label.config(text=current_time)\n",
    "    date_label.config(text=current_date)\n",
    "\n",
    "    time_label.after(1000, update_time)\n",
    "\n",
    "root = tk.Tk()\n",
    "root.title(\"Digital Clock with Date\")\n",
    "root.geometry(\"600x300\")\n",
    "root.config(bg=\"black\")\n",
    "\n",
    "\n",
    "time_label = tk.Label(root, font=(\"ds-digital\", 50), background=\"black\", foreground=\"cyan\")\n",
    "time_label.pack(pady=20)\n",
    "\n",
    "date_label = tk.Label(root, font=(\"Arial\", 20), background=\"black\", foreground=\"white\")\n",
    "date_label.pack(pady=10)\n",
    "\n",
    "\n",
    "update_time()\n",
    "\n",
    "\n",
    "root.mainloop()\n"
   ]
  },
  {
   "cell_type": "code",
   "execution_count": null,
   "id": "d9cede8d-edc8-4d5f-89a7-2be0d4130835",
   "metadata": {},
   "outputs": [],
   "source": []
  }
 ],
 "metadata": {
  "kernelspec": {
   "display_name": "Python 3 (ipykernel)",
   "language": "python",
   "name": "python3"
  },
  "language_info": {
   "codemirror_mode": {
    "name": "ipython",
    "version": 3
   },
   "file_extension": ".py",
   "mimetype": "text/x-python",
   "name": "python",
   "nbconvert_exporter": "python",
   "pygments_lexer": "ipython3",
   "version": "3.12.3"
  }
 },
 "nbformat": 4,
 "nbformat_minor": 5
}
